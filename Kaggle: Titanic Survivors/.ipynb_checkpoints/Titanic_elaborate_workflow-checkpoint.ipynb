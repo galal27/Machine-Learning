{
 "cells": [
  {
   "cell_type": "markdown",
   "metadata": {},
   "source": [
    "# Introduction\n",
    "\n",
    "Kaggle is a site where people create algorithms and compete against machine learning practitioners around the world.\n",
    "\n",
    "The most popular of these competitions, is about predicting which passengers survived the sinking of the Titanic.\n",
    "\n",
    "In this competition, we have a data set of different information about passengers onboard the Titanic, and we see if we can use that information to predict whether those people survived or not. Before we start looking at this specific competition, let's take a moment to understand how Kaggle competitions work.\n",
    "\n",
    "Each Kaggle competition has two key data files; a training set and a testing set.\n",
    "\n",
    "The training set contains data we can use to train our model. It has a number of feature columns which contain various descriptive data, as well as a column of the target values we are trying to predict: in this case, Survival.\n",
    "\n",
    "The testing set contains all of the same feature columns, but is missing the target value column. Additionally, the testing set usually has fewer observations (rows) than the training set.\n",
    "\n",
    "This is useful because we want as much data as we can to train our model on. Once we have trained our model on the training set, we will use that model to make predictions on the data from the testing set, and submit those predictions to Kaggle.\n",
    "\n",
    "In this competition, the two files are named test.csv and train.csv.\n",
    "\n",
    "Data Dictionary:\n",
    " - PassengerID - A column added by Kaggle to identify each row and make submissions easier\n",
    " - Survived - Whether the passenger survived or not and the value we are predicting (0=No, 1=Yes)\n",
    " - Pclass - The class of the ticket the passenger purchased (1=1st, 2=2nd, 3=3rd)\n",
    " - Sex - The passenger's sex\n",
    " - Age - The passenger's age in years\n",
    " - SibSp - The number of siblings or spouses the passenger had aboard the Titanic\n",
    " - Parch - The number of parents or children the passenger had aboard the Titanic\n",
    " - Ticket - The passenger's ticket number\n",
    " - Fare - The fare the passenger paid\n",
    " - Cabin - The passenger's cabin number\n",
    " - Embarked - The port where the passenger embarked (C=Cherbourg, Q=Queenstown, S=Southampton)\n",
    "\n",
    "_Competition Page: https://www.kaggle.com/c/titanic/data_\n",
    "## Exploring the Dataset"
   ]
  },
  {
   "cell_type": "code",
   "execution_count": 1,
   "metadata": {},
   "outputs": [
    {
     "name": "stdout",
     "output_type": "stream",
     "text": [
      "(891, 12) (418, 11)\n"
     ]
    }
   ],
   "source": [
    "import pandas as pd\n",
    "\n",
    "#read in dataframes and explore shapes\n",
    "test = pd.read_csv(\"test.csv\")\n",
    "test_shape = test.shape\n",
    "train = pd.read_csv('train.csv')\n",
    "train_shape = train.shape\n",
    "print(train_shape, test_shape)"
   ]
  },
  {
   "cell_type": "markdown",
   "metadata": {},
   "source": [
    "We will be performing binary classification, because when we make predictions we are classifying each passenger as survived or not.\n",
    "\n",
    "In this case, understanding the Titanic disaster and specifically what variables might affect the outcome of survival is important. Having watched the movie Titanic, we remember that women and children were given preference to lifeboats (as they were in real life). We also remember the vast class disparity of the passengers.\n",
    "\n",
    "This indicates that Age, Sex, and PClass may be good predictors of survival. We'll start by exploring Sex and Pclass by visualizing the data.\n",
    "\n",
    "Because the Survived column contains 0 if the passenger did not survive and 1 if they did, we can segment our data by sex and calculate the mean of this column."
   ]
  },
  {
   "cell_type": "code",
   "execution_count": 2,
   "metadata": {},
   "outputs": [
    {
     "data": {
      "image/png": "[encoded data removed]",
      "text/plain": [
       "<Figure size 432x288 with 1 Axes>"
      ]
     },
     "metadata": {},
     "output_type": "display_data"
    },
    {
     "data": {
      "image/png": "[encoded data removed]",
      "text/plain": [
       "<Figure size 432x288 with 1 Axes>"
      ]
     },
     "metadata": {},
     "output_type": "display_data"
    }
   ],
   "source": [
    "import matplotlib.pyplot as plt\n",
    "%matplotlib inline\n",
    "\n",
    "#creating pivot table for Sex and Pclass\n",
    "sex_pivot = train.pivot_table(index=\"Sex\",values=\"Survived\")\n",
    "sex_pivot.plot.bar()\n",
    "plt.show()\n",
    "class_pivot = train.pivot_table(index='Pclass', values = 'Survived')\n",
    "class_pivot.plot.bar()\n",
    "plt.show()"
   ]
  },
  {
   "cell_type": "code",
   "execution_count": 3,
   "metadata": {},
   "outputs": [
    {
     "data": {
      "image/png": "[encoded data removed]",
      "text/plain": [
       "<Figure size 432x288 with 1 Axes>"
      ]
     },
     "metadata": {},
     "output_type": "display_data"
    }
   ],
   "source": [
    "#function to convert Age from continuous to categorical values\n",
    "def process_age(df,cut_points,label_names):\n",
    "    df[\"Age\"] = df[\"Age\"].fillna(-0.5)\n",
    "    df[\"Age_categories\"] = pd.cut(df[\"Age\"],cut_points,labels=label_names)\n",
    "    return df\n",
    "\n",
    "#defining cutoff points for categories\n",
    "cut_points = [-1,0,5,12,18,35,60,100]\n",
    "label_names = [\"Missing\",\"Infant\",\"Child\",\"Teenager\",\"Young Adult\",\"Adult\",\"Senior\"]\n",
    "\n",
    "#applying function on the data\n",
    "train = process_age(train,cut_points,label_names)\n",
    "test = process_age(test,cut_points,label_names)\n",
    "\n",
    "#display pivot table\n",
    "pivot = train.pivot_table(index=\"Age_categories\",values='Survived')\n",
    "pivot.plot.bar()\n",
    "plt.show()"
   ]
  },
  {
   "cell_type": "markdown",
   "metadata": {},
   "source": [
    "Before we build our model, we need to prepare these columns for machine learning. Most machine learning algorithms can't understand text labels, so we have to convert our values into numbers.\n",
    "\n",
    "Additionally, we need to be careful that we don't imply any numeric relationship where there isn't one. While the class of each passenger certainly has some sort of ordered relationship, the relationship between each class is not the same as the relationship between the numbers 1, 2, and 3. For instance, class 2 isn't \"worth\" double what class 1 is, and class 3 isn't \"worth\" triple what class 1 is.\n",
    "\n",
    "Therefore, we create dummy variables for each of the three predictors."
   ]
  },
  {
   "cell_type": "code",
   "execution_count": 4,
   "metadata": {},
   "outputs": [],
   "source": [
    "#function creates dummy variables and concatenates them to the dataframes\n",
    "def create_dummies(df,column_name):\n",
    "    dummies = pd.get_dummies(df[column_name],prefix=column_name)\n",
    "    df = pd.concat([df,dummies],axis=1)\n",
    "    return df\n",
    "\n",
    "#applying the functions\n",
    "train = create_dummies(train,\"Pclass\")\n",
    "test = create_dummies(test,\"Pclass\")\n",
    "train = create_dummies(train,\"Sex\")\n",
    "test = create_dummies(test,\"Sex\")\n",
    "train = create_dummies(train,\"Age_categories\")\n",
    "test = create_dummies(test,\"Age_categories\")"
   ]
  },
  {
   "cell_type": "markdown",
   "metadata": {},
   "source": [
    "## Logistic Regression"
   ]
  },
  {
   "cell_type": "code",
   "execution_count": 5,
   "metadata": {},
   "outputs": [],
   "source": [
    "#choose columns that will be selected as features into the model\n",
    "columns = ['Pclass_1', 'Pclass_2', 'Pclass_3', 'Sex_female', 'Sex_male',\n",
    "       'Age_categories_Missing','Age_categories_Infant',\n",
    "       'Age_categories_Child', 'Age_categories_Teenager',\n",
    "       'Age_categories_Young Adult', 'Age_categories_Adult',\n",
    "       'Age_categories_Senior']"
   ]
  },
  {
   "cell_type": "markdown",
   "metadata": {},
   "source": [
    "We have a test dataframe that we could use to make predictions. We could make predictions on that data set, but because it doesn't have the Survived column we would have to submit it to Kaggle to find out our accuracy. This would quickly become a pain if we had to submit to find out the accuracy every time we optimized our model.\n",
    "\n",
    "We could also fit and predict on our train dataframe, however if we do this there is a high likelihood that our model will overfit.\n",
    "\n",
    "Therefore, we split our training set into two parts: 80% as training data, 20% as testing data."
   ]
  },
  {
   "cell_type": "code",
   "execution_count": 9,
   "metadata": {},
   "outputs": [
    {
     "name": "stdout",
     "output_type": "stream",
     "text": [
      "0.8100558659217877\n"
     ]
    }
   ],
   "source": [
    "#import test_train_split which performs the split described above\n",
    "from sklearn.model_selection import train_test_split\n",
    "#import logistic regression module from sci-kit learn\n",
    "from sklearn.linear_model import LogisticRegression\n",
    "#import accuracy score\n",
    "from sklearn.metrics import accuracy_score\n",
    "\n",
    "all_X = train[columns]\n",
    "all_y = train['Survived']\n",
    "#random_state allows for our results to be reproducible\n",
    "train_X, test_X, train_y, test_y = train_test_split(all_X, all_y, test_size=0.2, random_state=0)\n",
    "\n",
    "#instantiate logistic regression object\n",
    "lr = LogisticRegression()\n",
    "#fit data on train set\n",
    "lr.fit(train_X, train_y)\n",
    "#predict data on test set (from split)\n",
    "predictions = lr.predict(test_X)\n",
    "#calculate the accuracy\n",
    "accuracy = accuracy_score(test_y, predictions)\n",
    "print(accuracy)"
   ]
  },
  {
   "cell_type": "markdown",
   "metadata": {},
   "source": [
    "Our model has an accuracy score of 81.0% when tested against our 20% test set. Given that this data set is quite small, there is a good chance that our model is overfitting, and will not perform as well on totally unseen data.\n",
    "\n",
    "To give us a better understanding of the real performance of our model, we can use a technique called cross validation to train and test our model on different splits of our data, and then average the accuracy scores. We will be using, is called k-fold cross validation."
   ]
  },
  {
   "cell_type": "code",
   "execution_count": 10,
   "metadata": {},
   "outputs": [
    {
     "name": "stdout",
     "output_type": "stream",
     "text": [
      "scores:  [0.8        0.81111111 0.7752809  0.87640449 0.80898876 0.78651685\n",
      " 0.76404494 0.76404494 0.83146067 0.80681818]\n",
      "accuracy:  0.8024670865963002\n"
     ]
    }
   ],
   "source": [
    "from sklearn.model_selection import cross_val_score\n",
    "import numpy as np\n",
    "\n",
    "#instantiate new logistic regression object\n",
    "lr = LogisticRegression()\n",
    "#use cross_val_score to perform cross-validation on our data\n",
    "scores = cross_val_score(lr, all_X, all_y, cv = 10)\n",
    "#get mean of scores\n",
    "accuracy = np.mean(scores)\n",
    "print(\"scores: \", scores)\n",
    "print(\"accuracy: \", accuracy)"
   ]
  },
  {
   "cell_type": "markdown",
   "metadata": {},
   "source": [
    "From the results of our k-fold validation, you can see that the accuracy number varies with each fold - ranging between 76.4% and 87.6%. This demonstrates why cross validation is important.\n",
    "\n",
    "As it happens, our average accuracy score was 80.2%, which is not far from the 81.0% we got from our simple train/test split.\n",
    "\n",
    "We are now ready to use the model we have built to train our final model and then make predictions on our unseen holdout data (Kaggle test data)."
   ]
  },
  {
   "cell_type": "code",
   "execution_count": 11,
   "metadata": {},
   "outputs": [],
   "source": [
    "#referring to kaggle test data as 'holdout' data to avoid confusion\n",
    "holdout = test\n",
    "#performing logistic regression on holdout data\n",
    "lr = LogisticRegression()\n",
    "lr.fit(all_X, all_y)\n",
    "holdout_predictions = lr.predict(holdout[columns])"
   ]
  },
  {
   "cell_type": "markdown",
   "metadata": {},
   "source": [
    "## Submission to Kaggle\n",
    "\n",
    "We need to create a submission file. Each Kaggle competition can have slightly different requirements for the submission file. Here's what is specified on the Titanic competition evaluation page:\n",
    "\n",
    " - You should submit a csv file with exactly 418 entries plus a header row. \n",
    " - Your submission will show an error if you have extra columns (beyond PassengerId and Survived) or rows.\n",
    "\n",
    "The file should have exactly 2 columns:\n",
    "\n",
    " - PassengerId (sorted in any order)\n",
    " - Survived (contains your binary predictions: 1 for survived, 0 for deceased)"
   ]
  },
  {
   "cell_type": "code",
   "execution_count": 12,
   "metadata": {},
   "outputs": [],
   "source": [
    "holdout_ids = holdout[\"PassengerId\"]\n",
    "submission_df = {\"PassengerId\": holdout_ids,\n",
    "                 \"Survived\": holdout_predictions}\n",
    "submission = pd.DataFrame(submission_df)\n",
    "\n",
    "submission.to_csv(\"submission.csv\",index=False)"
   ]
  },
  {
   "cell_type": "markdown",
   "metadata": {},
   "source": [
    "Our accuracy on the holdout data is 74.2% compared with the 80.2% accuracy we got with cross-validation indicates that our model is overfitting slightly to our training data.\n",
    "\n",
    "There are many things we can do to improve the accuracy of our model. Here are some next steps:\n",
    "\n",
    "Improving the features:\n",
    " - Feature Engineering: Create new features from the existing data.\n",
    " - Feature Selection: Select the most relevant features to reduce noise and overfitting.\n",
    " \n",
    "Improving the model:\n",
    " - Model Selection: Try a variety of models to improve performance.\n",
    " - Hyperparameter Optimization: Optimize the settings within each particular machine learning model.\n",
    " \n",
    "## Feature Preparation, Selection and Engineering\n",
    "\n",
    "Our model above, was based on three columns from the original data: Age, Sex, and Pclass. However, there are other columns from the dataset to consider. We can ignore PassengerId, since this is just a column Kaggle have added to identify each passenger and calculate scores. We can also ignore Survived, as this is what we're predicting, as well as the three columns we've already used.\n",
    "\n",
    "Here is a list of the remaining columns:\n",
    "\n",
    " - SibSp - The number of siblings or spouses the passenger had aboard the Titanic\n",
    " - Parch - The number of parents or children the passenger had aboard the Titanic\n",
    " - Ticket - The passenger's ticket number\n",
    " - Fare - The fair the passenger paid\n",
    " - Cabin - The passengers cabin number\n",
    " - Embarked - The port where the passenger embarked (C=Cherbourg, Q=Queenstown, S=Southampton)\n",
    "\n",
    "At first glance, both the Name and Ticket columns look to be unique to each passenger. We will come back to these columns later, but for now we'll focus on the other columns.\n",
    "\n",
    "Let's get some more information on the values within each remaining column."
   ]
  },
  {
   "cell_type": "code",
   "execution_count": 13,
   "metadata": {},
   "outputs": [
    {
     "data": {
      "text/html": [
       "<div>\n",
       "<style scoped>\n",
       "    .dataframe tbody tr th:only-of-type {\n",
       "        vertical-align: middle;\n",
       "    }\n",
       "\n",
       "    .dataframe tbody tr th {\n",
       "        vertical-align: top;\n",
       "    }\n",
       "\n",
       "    .dataframe thead th {\n",
       "        text-align: right;\n",
       "    }\n",
       "</style>\n",
       "<table border=\"1\" class=\"dataframe\">\n",
       "  <thead>\n",
       "    <tr style=\"text-align: right;\">\n",
       "      <th></th>\n",
       "      <th>SibSp</th>\n",
       "      <th>Parch</th>\n",
       "      <th>Fare</th>\n",
       "      <th>Cabin</th>\n",
       "      <th>Embarked</th>\n",
       "    </tr>\n",
       "  </thead>\n",
       "  <tbody>\n",
       "    <tr>\n",
       "      <th>count</th>\n",
       "      <td>891.000000</td>\n",
       "      <td>891.000000</td>\n",
       "      <td>891.000000</td>\n",
       "      <td>204</td>\n",
       "      <td>889</td>\n",
       "    </tr>\n",
       "    <tr>\n",
       "      <th>unique</th>\n",
       "      <td>NaN</td>\n",
       "      <td>NaN</td>\n",
       "      <td>NaN</td>\n",
       "      <td>147</td>\n",
       "      <td>3</td>\n",
       "    </tr>\n",
       "    <tr>\n",
       "      <th>top</th>\n",
       "      <td>NaN</td>\n",
       "      <td>NaN</td>\n",
       "      <td>NaN</td>\n",
       "      <td>G6</td>\n",
       "      <td>S</td>\n",
       "    </tr>\n",
       "    <tr>\n",
       "      <th>freq</th>\n",
       "      <td>NaN</td>\n",
       "      <td>NaN</td>\n",
       "      <td>NaN</td>\n",
       "      <td>4</td>\n",
       "      <td>644</td>\n",
       "    </tr>\n",
       "    <tr>\n",
       "      <th>mean</th>\n",
       "      <td>0.523008</td>\n",
       "      <td>0.381594</td>\n",
       "      <td>32.204208</td>\n",
       "      <td>NaN</td>\n",
       "      <td>NaN</td>\n",
       "    </tr>\n",
       "    <tr>\n",
       "      <th>std</th>\n",
       "      <td>1.102743</td>\n",
       "      <td>0.806057</td>\n",
       "      <td>49.693429</td>\n",
       "      <td>NaN</td>\n",
       "      <td>NaN</td>\n",
       "    </tr>\n",
       "    <tr>\n",
       "      <th>min</th>\n",
       "      <td>0.000000</td>\n",
       "      <td>0.000000</td>\n",
       "      <td>0.000000</td>\n",
       "      <td>NaN</td>\n",
       "      <td>NaN</td>\n",
       "    </tr>\n",
       "    <tr>\n",
       "      <th>50%</th>\n",
       "      <td>0.000000</td>\n",
       "      <td>0.000000</td>\n",
       "      <td>14.454200</td>\n",
       "      <td>NaN</td>\n",
       "      <td>NaN</td>\n",
       "    </tr>\n",
       "    <tr>\n",
       "      <th>max</th>\n",
       "      <td>8.000000</td>\n",
       "      <td>6.000000</td>\n",
       "      <td>512.329200</td>\n",
       "      <td>NaN</td>\n",
       "      <td>NaN</td>\n",
       "    </tr>\n",
       "  </tbody>\n",
       "</table>\n",
       "</div>"
      ],
      "text/plain": [
       "             SibSp       Parch        Fare Cabin Embarked\n",
       "count   891.000000  891.000000  891.000000   204      889\n",
       "unique         NaN         NaN         NaN   147        3\n",
       "top            NaN         NaN         NaN    G6        S\n",
       "freq           NaN         NaN         NaN     4      644\n",
       "mean      0.523008    0.381594   32.204208   NaN      NaN\n",
       "std       1.102743    0.806057   49.693429   NaN      NaN\n",
       "min       0.000000    0.000000    0.000000   NaN      NaN\n",
       "50%       0.000000    0.000000   14.454200   NaN      NaN\n",
       "max       8.000000    6.000000  512.329200   NaN      NaN"
      ]
     },
     "execution_count": 13,
     "metadata": {},
     "output_type": "execute_result"
    }
   ],
   "source": [
    "columns = ['SibSp','Parch','Fare','Cabin','Embarked']\n",
    "train[columns].describe(include='all',percentiles=[])"
   ]
  },
  {
   "cell_type": "markdown",
   "metadata": {},
   "source": [
    " - SibSp, Parch and Fare look to be standard numeric columns with no missing values. \n",
    " - Cabin has values for only 204 of the 891 rows, and even then most of the values are unique, so for now we will leave this column also. \n",
    " - Embarked looks to be a standard categorical column with 3 unique values, much like PClass was, except that there are two missing values. We can easily fill these two missing values with the most common value, \"S\" which occurs 644 times.\n",
    "\n",
    "Looking at our numeric columns, we can see a big difference between the range of each. SibSp has values between 0-8, Parch between 0-6, and Fare is on a dramatically different scale, with values ranging from 0-512. In order to make sure these values are equally weighted within our model, we'll need to rescale the data. Rescaling simply stretches or shrinks the data as needed to be on the same scale, in our case between 0 and 1."
   ]
  },
  {
   "cell_type": "code",
   "execution_count": 14,
   "metadata": {},
   "outputs": [
    {
     "name": "stderr",
     "output_type": "stream",
     "text": [
      "/anaconda3/lib/python3.6/site-packages/sklearn/utils/validation.py:475: DataConversionWarning: Data with input dtype int64 was converted to float64.\n",
      "  warnings.warn(msg, DataConversionWarning)\n"
     ]
    }
   ],
   "source": [
    "#import minmax_scale: sci-kit learn's scaling function\n",
    "from sklearn.preprocessing import minmax_scale\n",
    "\n",
    "# The holdout set has a missing value in the Fare column which\n",
    "# we'll fill with the mean.\n",
    "holdout[\"Fare\"] = holdout[\"Fare\"].fillna(train[\"Fare\"].mean())\n",
    "\n",
    "columns = [\"SibSp\",\"Parch\",\"Fare\"]\n",
    "\n",
    "#fill in missing Embarked values with 'S'\n",
    "train[\"Embarked\"] = train[\"Embarked\"].fillna(\"S\")\n",
    "holdout[\"Embarked\"] = holdout[\"Embarked\"].fillna(\"S\")\n",
    "\n",
    "#create dummy variables for 'Embarked'\n",
    "train = create_dummies(train,\"Embarked\")\n",
    "holdout = create_dummies(holdout,\"Embarked\")\n",
    "\n",
    "#scale all columns\n",
    "for col in columns:\n",
    "    train[col + \"_scaled\"] = minmax_scale(train[col])\n",
    "    holdout[col + \"_scaled\"] = minmax_scale(holdout[col])"
   ]
  },
  {
   "cell_type": "markdown",
   "metadata": {},
   "source": [
    "In order to select the best-performing features, we need a way to measure which of our features are relevant to our outcome. One effective way is by training a logistic regression model using all of our features, and then looking at the coefficients of each feature."
   ]
  },
  {
   "cell_type": "code",
   "execution_count": 15,
   "metadata": {},
   "outputs": [
    {
     "data": {
      "image/png": "[encoded data removed]",
      "text/plain": [
       "<Figure size 720x720 with 1 Axes>"
      ]
     },
     "metadata": {},
     "output_type": "display_data"
    }
   ],
   "source": [
    "#setting up feature columns\n",
    "columns = ['Age_categories_Missing', 'Age_categories_Infant',\n",
    "       'Age_categories_Child', 'Age_categories_Teenager',\n",
    "       'Age_categories_Young Adult', 'Age_categories_Adult',\n",
    "       'Age_categories_Senior', 'Pclass_1', 'Pclass_2', 'Pclass_3',\n",
    "       'Sex_female', 'Sex_male', 'Embarked_C', 'Embarked_Q', 'Embarked_S',\n",
    "       'SibSp_scaled', 'Parch_scaled', 'Fare_scaled']\n",
    "\n",
    "lr = LogisticRegression()\n",
    "lr.fit(train[columns], train['Survived'])\n",
    "#obtaining algorithm coefficients\n",
    "coefficients = lr.coef_\n",
    "feature_importance = pd.Series(coefficients[0], index=train[columns].columns)\n",
    "#visualizing the coefficients\n",
    "ordered_feature_importance = feature_importance.abs().sort_values()\n",
    "ordered_feature_importance.plot.barh(figsize = (10,10))\n",
    "plt.show()"
   ]
  },
  {
   "cell_type": "markdown",
   "metadata": {},
   "source": [
    "We'll train a new model with the top 8 scores and check our accuracy using cross validation."
   ]
  },
  {
   "cell_type": "code",
   "execution_count": 16,
   "metadata": {},
   "outputs": [
    {
     "name": "stdout",
     "output_type": "stream",
     "text": [
      "0.8148019521053229\n"
     ]
    }
   ],
   "source": [
    "#top 8 scores\n",
    "columns = ['Age_categories_Infant', 'SibSp_scaled', 'Sex_female', 'Sex_male',\n",
    "       'Pclass_1', 'Pclass_3', 'Age_categories_Senior', 'Parch_scaled']\n",
    "\n",
    "lr = LogisticRegression()\n",
    "scores = cross_val_score(lr, train[columns], train['Survived'], cv = 10)\n",
    "accuracy = scores.mean()\n",
    "print(accuracy)"
   ]
  },
  {
   "cell_type": "markdown",
   "metadata": {},
   "source": [
    "The cross validation score of 81.5% is marginally higher than the cross validation score for the model we created in the previous mission, which had a score of 80.2%.\n",
    "\n",
    "Hopefully, this improvement will translate to previously unseen data. Let's train a model using the columns from the previous step, make some predictions on the holdout data and submit it to Kaggle for scoring."
   ]
  },
  {
   "cell_type": "code",
   "execution_count": 17,
   "metadata": {},
   "outputs": [],
   "source": [
    "all_X = train[columns]\n",
    "all_y = train['Survived']\n",
    "lr = LogisticRegression()\n",
    "lr.fit(all_X,all_y)\n",
    "holdout_predictions = lr.predict(holdout[columns])\n",
    "\n",
    "holdout_ids = holdout[\"PassengerId\"]\n",
    "submission_df = {\"PassengerId\": holdout_ids,\n",
    "                 \"Survived\": holdout_predictions}\n",
    "submission = pd.DataFrame(submission_df)\n",
    "\n",
    "submission.to_csv(\"submission_1.csv\",index=False)"
   ]
  },
  {
   "cell_type": "markdown",
   "metadata": {},
   "source": [
    "Our accuracy on the holdout data is 77.03% compared with the 81.5% accuracy we got with cross-validation indicates that our model is still overfitting slightly to our training data."
   ]
  },
  {
   "cell_type": "markdown",
   "metadata": {},
   "source": [
    "A lot of the gains in accuracy in machine learning come from Feature Engineering; creating new features from your existing data.\n",
    "\n",
    "One common way to engineer a feature is using a technique called binning. This can be useful when there are patterns in the data that are non-linear and you're using a linear model, like logistic regression. We used binning earlier, when we dealt with the Age column. Let's do the same for the Fare column."
   ]
  },
  {
   "cell_type": "code",
   "execution_count": 18,
   "metadata": {},
   "outputs": [],
   "source": [
    "def process_fare(df, cut_points, label_names):\n",
    "    df[\"Fare_categories\"] = pd.cut(df[\"Fare\"], cut_points, labels = label_names)\n",
    "    return df\n",
    "\n",
    "cut_points = [0,12,50,100,1000]\n",
    "label_names = [\"0-12\",\"12-50\",\"50-100\",\"100+\"]\n",
    "\n",
    "train = process_fare(train,cut_points,label_names)\n",
    "holdout = process_fare(holdout,cut_points,label_names)\n",
    "\n",
    "train = create_dummies(train,\"Fare_categories\")\n",
    "holdout = create_dummies(holdout,\"Fare_categories\")"
   ]
  },
  {
   "cell_type": "markdown",
   "metadata": {},
   "source": [
    "Another way to engineer features is by extracting data from text columns. Earlier, we decided that the Name and Cabin columns weren't useful by themselves, but what if there is some data there we could extract? Let's take a look at a random sample of rows from those two columns:"
   ]
  },
  {
   "cell_type": "code",
   "execution_count": 19,
   "metadata": {},
   "outputs": [
    {
     "data": {
      "text/html": [
       "<div>\n",
       "<style scoped>\n",
       "    .dataframe tbody tr th:only-of-type {\n",
       "        vertical-align: middle;\n",
       "    }\n",
       "\n",
       "    .dataframe tbody tr th {\n",
       "        vertical-align: top;\n",
       "    }\n",
       "\n",
       "    .dataframe thead th {\n",
       "        text-align: right;\n",
       "    }\n",
       "</style>\n",
       "<table border=\"1\" class=\"dataframe\">\n",
       "  <thead>\n",
       "    <tr style=\"text-align: right;\">\n",
       "      <th></th>\n",
       "      <th>Name</th>\n",
       "      <th>Cabin</th>\n",
       "    </tr>\n",
       "  </thead>\n",
       "  <tbody>\n",
       "    <tr>\n",
       "      <th>0</th>\n",
       "      <td>Braund, Mr. Owen Harris</td>\n",
       "      <td>NaN</td>\n",
       "    </tr>\n",
       "    <tr>\n",
       "      <th>1</th>\n",
       "      <td>Cumings, Mrs. John Bradley (Florence Briggs Th...</td>\n",
       "      <td>C85</td>\n",
       "    </tr>\n",
       "    <tr>\n",
       "      <th>2</th>\n",
       "      <td>Heikkinen, Miss. Laina</td>\n",
       "      <td>NaN</td>\n",
       "    </tr>\n",
       "    <tr>\n",
       "      <th>3</th>\n",
       "      <td>Futrelle, Mrs. Jacques Heath (Lily May Peel)</td>\n",
       "      <td>C123</td>\n",
       "    </tr>\n",
       "    <tr>\n",
       "      <th>4</th>\n",
       "      <td>Allen, Mr. William Henry</td>\n",
       "      <td>NaN</td>\n",
       "    </tr>\n",
       "    <tr>\n",
       "      <th>5</th>\n",
       "      <td>Moran, Mr. James</td>\n",
       "      <td>NaN</td>\n",
       "    </tr>\n",
       "    <tr>\n",
       "      <th>6</th>\n",
       "      <td>McCarthy, Mr. Timothy J</td>\n",
       "      <td>E46</td>\n",
       "    </tr>\n",
       "    <tr>\n",
       "      <th>7</th>\n",
       "      <td>Palsson, Master. Gosta Leonard</td>\n",
       "      <td>NaN</td>\n",
       "    </tr>\n",
       "    <tr>\n",
       "      <th>8</th>\n",
       "      <td>Johnson, Mrs. Oscar W (Elisabeth Vilhelmina Berg)</td>\n",
       "      <td>NaN</td>\n",
       "    </tr>\n",
       "    <tr>\n",
       "      <th>9</th>\n",
       "      <td>Nasser, Mrs. Nicholas (Adele Achem)</td>\n",
       "      <td>NaN</td>\n",
       "    </tr>\n",
       "    <tr>\n",
       "      <th>10</th>\n",
       "      <td>Sandstrom, Miss. Marguerite Rut</td>\n",
       "      <td>G6</td>\n",
       "    </tr>\n",
       "    <tr>\n",
       "      <th>11</th>\n",
       "      <td>Bonnell, Miss. Elizabeth</td>\n",
       "      <td>C103</td>\n",
       "    </tr>\n",
       "    <tr>\n",
       "      <th>12</th>\n",
       "      <td>Saundercock, Mr. William Henry</td>\n",
       "      <td>NaN</td>\n",
       "    </tr>\n",
       "    <tr>\n",
       "      <th>13</th>\n",
       "      <td>Andersson, Mr. Anders Johan</td>\n",
       "      <td>NaN</td>\n",
       "    </tr>\n",
       "    <tr>\n",
       "      <th>14</th>\n",
       "      <td>Vestrom, Miss. Hulda Amanda Adolfina</td>\n",
       "      <td>NaN</td>\n",
       "    </tr>\n",
       "  </tbody>\n",
       "</table>\n",
       "</div>"
      ],
      "text/plain": [
       "                                                 Name Cabin\n",
       "0                             Braund, Mr. Owen Harris   NaN\n",
       "1   Cumings, Mrs. John Bradley (Florence Briggs Th...   C85\n",
       "2                              Heikkinen, Miss. Laina   NaN\n",
       "3        Futrelle, Mrs. Jacques Heath (Lily May Peel)  C123\n",
       "4                            Allen, Mr. William Henry   NaN\n",
       "5                                    Moran, Mr. James   NaN\n",
       "6                             McCarthy, Mr. Timothy J   E46\n",
       "7                      Palsson, Master. Gosta Leonard   NaN\n",
       "8   Johnson, Mrs. Oscar W (Elisabeth Vilhelmina Berg)   NaN\n",
       "9                 Nasser, Mrs. Nicholas (Adele Achem)   NaN\n",
       "10                    Sandstrom, Miss. Marguerite Rut    G6\n",
       "11                           Bonnell, Miss. Elizabeth  C103\n",
       "12                     Saundercock, Mr. William Henry   NaN\n",
       "13                        Andersson, Mr. Anders Johan   NaN\n",
       "14               Vestrom, Miss. Hulda Amanda Adolfina   NaN"
      ]
     },
     "execution_count": 19,
     "metadata": {},
     "output_type": "execute_result"
    }
   ],
   "source": [
    "train[['Name', 'Cabin']].head(15)"
   ]
  },
  {
   "cell_type": "markdown",
   "metadata": {},
   "source": [
    "While in isolation the cabin number of each passenger will be reasonably unique to each, we can see that the format of the cabin numbers is one letter followed by two numbers. It seems like the letter is representative of the type of cabin, which could be useful data for us. \n",
    "\n",
    "Looking at the Name column, There is a title like 'Mr' or 'Mrs' within each, as well as some less common titles, like the 'Countess' from the final row of our table above. By spending some time researching the different titles, we can categorize these into six types: Mr, Mrs, Master, Miss, Officer, Royalty."
   ]
  },
  {
   "cell_type": "code",
   "execution_count": 20,
   "metadata": {},
   "outputs": [],
   "source": [
    "titles = {\n",
    "    \"Mr\" :         \"Mr\",\n",
    "    \"Mme\":         \"Mrs\",\n",
    "    \"Ms\":          \"Mrs\",\n",
    "    \"Mrs\" :        \"Mrs\",\n",
    "    \"Master\" :     \"Master\",\n",
    "    \"Mlle\":        \"Miss\",\n",
    "    \"Miss\" :       \"Miss\",\n",
    "    \"Capt\":        \"Officer\",\n",
    "    \"Col\":         \"Officer\",\n",
    "    \"Major\":       \"Officer\",\n",
    "    \"Dr\":          \"Officer\",\n",
    "    \"Rev\":         \"Officer\",\n",
    "    \"Jonkheer\":    \"Royalty\",\n",
    "    \"Don\":         \"Royalty\",\n",
    "    \"Sir\" :        \"Royalty\",\n",
    "    \"Countess\":    \"Royalty\",\n",
    "    \"Dona\":        \"Royalty\",\n",
    "    \"Lady\" :       \"Royalty\"\n",
    "}\n",
    "\n",
    "#use extract(), map() and the dictionary titles to categorize the \n",
    "#titles for the holdout dataframe and assign the results to a new column Title.\n",
    "extracted_titles = train[\"Name\"].str.extract(' ([A-Za-z]+)\\.',expand=False)\n",
    "train[\"Title\"] = extracted_titles.map(titles)\n",
    "extracted_titles = holdout[\"Name\"].str.extract(' ([A-Za-z]+)\\.',expand=False)\n",
    "holdout[\"Title\"] = extracted_titles.map(titles)\n",
    "\n",
    "#use the str() accessor to extract the first letter from the Cabin column \n",
    "#use the fillna() method to fill any missing values in Cabin_type with \"Unknown\"\n",
    "train[\"Cabin_type\"] = train[\"Cabin\"].str[0]\n",
    "train[\"Cabin_type\"] = train[\"Cabin_type\"].fillna(\"Unknown\")\n",
    "\n",
    "holdout[\"Cabin_type\"] = holdout[\"Cabin\"].str[0]\n",
    "holdout[\"Cabin_type\"] = holdout[\"Cabin_type\"].fillna(\"Unknown\")\n",
    "\n",
    "#create dummies for the new features\n",
    "for column in [\"Title\",\"Cabin_type\"]:\n",
    "    train = create_dummies(train,column)\n",
    "    holdout = create_dummies(holdout,column)"
   ]
  },
  {
   "cell_type": "markdown",
   "metadata": {},
   "source": [
    "We now have 34 possible feature columns we can use to train our model. However, we need to be aware of collinearity. Collinearity occurs where more than one feature contains data that are similar.\n",
    "\n",
    "The effect of collinearity is that your model will overfit. This will happen whenever we create dummy columns, and is called the dummy variable trap. The easy solution is to choose one column to drop any time you make dummy columns.\n",
    "\n",
    "Let's plot correlations between each pair of variables in a heatmap, and see if there are any correlations we need to be aware of:"
   ]
  },
  {
   "cell_type": "code",
   "execution_count": 21,
   "metadata": {},
   "outputs": [
    {
     "data": {
      "image/png": "[encoded data removed]",
      "text/plain": [
       "<Figure size 1440x1296 with 2 Axes>"
      ]
     },
     "metadata": {},
     "output_type": "display_data"
    }
   ],
   "source": [
    "import seaborn as sns\n",
    "\n",
    "#function to plot a pretty heatmap, code was found in seaborn example documentation\n",
    "def plot_correlation_heatmap(df):\n",
    "    corr = df.corr()\n",
    "    \n",
    "    sns.set(style=\"white\")\n",
    "    mask = np.zeros_like(corr, dtype=np.bool)\n",
    "    mask[np.triu_indices_from(mask)] = True\n",
    "\n",
    "    f, ax = plt.subplots(figsize=(20, 18))\n",
    "    cmap = sns.diverging_palette(220, 10, as_cmap=True)\n",
    "\n",
    "\n",
    "    sns.heatmap(corr, mask=mask, cmap=cmap, vmax=.3, center=0,\n",
    "            square=True, linewidths=.5, cbar_kws={\"shrink\": .5})\n",
    "    plt.show()\n",
    "\n",
    "columns = ['Age_categories_Missing', 'Age_categories_Infant',\n",
    "       'Age_categories_Child', 'Age_categories_Teenager',\n",
    "       'Age_categories_Young Adult', 'Age_categories_Adult',\n",
    "       'Age_categories_Senior', 'Pclass_1', 'Pclass_2', 'Pclass_3',\n",
    "       'Sex_female', 'Sex_male', 'Embarked_C', 'Embarked_Q', 'Embarked_S',\n",
    "       'SibSp_scaled', 'Parch_scaled', 'Fare_categories_0-12',\n",
    "       'Fare_categories_12-50','Fare_categories_50-100', 'Fare_categories_100+',\n",
    "       'Title_Master', 'Title_Miss', 'Title_Mr','Title_Mrs', 'Title_Officer',\n",
    "       'Title_Royalty', 'Cabin_type_A','Cabin_type_B', 'Cabin_type_C', 'Cabin_type_D',\n",
    "       'Cabin_type_E','Cabin_type_F', 'Cabin_type_G', 'Cabin_type_T', 'Cabin_type_Unknown']\n",
    "\n",
    "plot_correlation_heatmap(train[columns])"
   ]
  },
  {
   "cell_type": "markdown",
   "metadata": {},
   "source": [
    "We can see that there is a high correlation between Sex_female/Sex_male and Title_Miss/Title_Mr/Title_Mrs. We will remove the columns Sex_female and Sex_male since the title data may be more nuanced.\n",
    "\n",
    "Apart from that, we should remove one of each of our dummy variables to reduce the collinearity in each. We'll remove:\n",
    "\n",
    " - Pclass_2\n",
    " - Age_categories_Teenager\n",
    " - Fare_categories_12-50\n",
    " - Title_Master\n",
    " - Cabin_type_A\n",
    " \n",
    "Earlier step, we manually used the logit coefficients to select the most relevant features. An alternate method is to use one of scikit-learn's inbuilt feature selection classes. We will be using the feature_selection.RFECV class which performs recursive feature elimination with cross-validation.\n",
    "\n",
    "The RFECV class starts by training a model using all of your features and scores it using cross validation. It then uses the logit coefficients to eliminate the least important feature, and trains and scores a new model. At the end, the class looks at all the scores, and selects the set of features which scored highest.\n",
    "\n",
    "Once the RFECV object has been fit, we can use the RFECV.support_ attribute to access a boolean mask of True and False values which we can use to generate a list of optimized columns."
   ]
  },
  {
   "cell_type": "code",
   "execution_count": 22,
   "metadata": {},
   "outputs": [
    {
     "name": "stdout",
     "output_type": "stream",
     "text": [
      "Index(['SibSp_scaled', 'Title_Mr', 'Title_Officer', 'Cabin_type_Unknown'], dtype='object')\n"
     ]
    }
   ],
   "source": [
    "#following code is explained in preceding text\n",
    "from sklearn.feature_selection import RFECV\n",
    "\n",
    "columns = ['Age_categories_Missing', 'Age_categories_Infant',\n",
    "       'Age_categories_Child', 'Age_categories_Young Adult',\n",
    "       'Age_categories_Adult', 'Age_categories_Senior', 'Pclass_1', 'Pclass_3',\n",
    "       'Embarked_C', 'Embarked_Q', 'Embarked_S', 'SibSp_scaled',\n",
    "       'Parch_scaled', 'Fare_categories_0-12', 'Fare_categories_50-100',\n",
    "       'Fare_categories_100+', 'Title_Miss', 'Title_Mr', 'Title_Mrs',\n",
    "       'Title_Officer', 'Title_Royalty', 'Cabin_type_B', 'Cabin_type_C',\n",
    "       'Cabin_type_D', 'Cabin_type_E', 'Cabin_type_F', 'Cabin_type_G',\n",
    "       'Cabin_type_T', 'Cabin_type_Unknown']\n",
    "\n",
    "all_X = train[columns]\n",
    "all_y = train[\"Survived\"]\n",
    "\n",
    "lr = LogisticRegression()\n",
    "selector = RFECV(lr,cv=10)\n",
    "selector.fit(all_X,all_y)\n",
    "optimized_columns = all_X.columns[selector.support_]\n",
    "print(optimized_columns)"
   ]
  },
  {
   "cell_type": "code",
   "execution_count": 23,
   "metadata": {},
   "outputs": [
    {
     "name": "stdout",
     "output_type": "stream",
     "text": [
      "0.8226549199863807\n"
     ]
    }
   ],
   "source": [
    "#train model using optimal cols\n",
    "all_X = train[optimized_columns]\n",
    "all_y = train[\"Survived\"]\n",
    "\n",
    "lr = LogisticRegression()\n",
    "scores = cross_val_score(lr, all_X, all_y, cv = 10)\n",
    "accuracy = scores.mean()\n",
    "print(accuracy)"
   ]
  },
  {
   "cell_type": "markdown",
   "metadata": {},
   "source": [
    "This four-feature model scores 82.3%, a modest improvement compared to the 81.5% from our earlier model. Let's train these columns on the holdout set, save a submission file and see what score we get from Kaggle."
   ]
  },
  {
   "cell_type": "code",
   "execution_count": 24,
   "metadata": {},
   "outputs": [],
   "source": [
    "lr = LogisticRegression()\n",
    "lr.fit(all_X,all_y)\n",
    "holdout_predictions = lr.predict(holdout[optimized_columns])\n",
    "\n",
    "holdout_ids = holdout[\"PassengerId\"]\n",
    "submission_df = {\"PassengerId\": holdout_ids,\n",
    "                 \"Survived\": holdout_predictions}\n",
    "submission = pd.DataFrame(submission_df)\n",
    "\n",
    "submission.to_csv(\"submission_2.csv\",index=False)"
   ]
  },
  {
   "cell_type": "markdown",
   "metadata": {},
   "source": [
    "Our accuracy is now 78.5%, compared to 74.2% from our earlier submission; a significant increase.\n",
    "\n",
    "Here are some ideas for features for this competition:\n",
    "\n",
    " - Use SibSp and Parch to explore total relatives onboard.\n",
    " - Create combinations of multiple columns, for instance Pclass + Sex.\n",
    " - See if you can extract useful data out of the Ticket column.\n",
    " - Try different combinations of features to see if you can identify features that overfit less than others.\n",
    "\n",
    "Now, we'll look at selecting and optimizing different models to improve our score."
   ]
  },
  {
   "cell_type": "markdown",
   "metadata": {},
   "source": [
    "## Model Selection and Tuning\n",
    "\n",
    "Earlier, we worked to optimize our predictions by creating and selecting the features used to train our model. The other half of the optimization puzzle is to optimize the model itself— or more specifically, the algorithm used to train our model.\n",
    "\n",
    "So far, we've been using the logistic regression algorithm to train our models, however there are hundreds of different machine learning algorithms from which we can choose. Each algorithm has different strengths and weaknesses, and so we need to select the algorithm that works best with our specific data.\n",
    "\n",
    "Now, we're going work with two new algorithms: k-nearest neighbors and random forests.\n",
    "\n",
    "We'll start with **k-nearest neighbors.** We're going to train our models using all the columns in the train dataframe. This will cause a small amount of overfitting due to collinearity, but having more features will allow us to more thoroughly compare algorithms.\n",
    "\n",
    "So we have something to compare to, we're going to train a logistic regression model like in the previous two missions. We'll use cross validation to get a baseline score."
   ]
  },
  {
   "cell_type": "code",
   "execution_count": 34,
   "metadata": {},
   "outputs": [
    {
     "name": "stdout",
     "output_type": "stream",
     "text": [
      "0.821644251503802\n"
     ]
    }
   ],
   "source": [
    "#drop columns with non-numeric values\n",
    "all_X = train.drop(['Survived','PassengerId', 'Pclass', 'Sex', 'Age', 'Age_categories', 'Cabin', \n",
    "                    'Name', 'Title', 'Cabin_type', 'Embarked', 'Fare', 'Fare_categories', 'Ticket',\n",
    "                    'Cabin_type_T'],axis=1)\n",
    "\n",
    "all_y = train['Survived']\n",
    "lr = LogisticRegression()\n",
    "scores = cross_val_score(lr, all_X, all_y, cv=10)\n",
    "accuracy_lr = scores.mean()\n",
    "print(accuracy_lr)"
   ]
  },
  {
   "cell_type": "markdown",
   "metadata": {},
   "source": [
    "The k-nearest neighbors algorithm finds the observations in our training set most similar to the observation in our test set, and uses the average outcome of those 'neighbor' observations to make a prediction. The 'k' is the number of neighbor observations used to make the prediction.\n",
    "\n",
    "Besides pure model selection, we can vary the settings of each model — hyperparameter optimization.\n",
    "We can use Sci-Kit Learn's GridSearch to find the optimal hyperparameters. We will only want to test odd values for k to avoid ties, where both 'survived' and 'died' outcomes would have the same number of neighbors."
   ]
  },
  {
   "cell_type": "code",
   "execution_count": 35,
   "metadata": {},
   "outputs": [
    {
     "name": "stdout",
     "output_type": "stream",
     "text": [
      "{'algorithm': 'brute', 'n_neighbors': 5, 'p': 1, 'weights': 'uniform'}\n",
      "0.8361391694725028\n"
     ]
    }
   ],
   "source": [
    "from sklearn.neighbors import KNeighborsClassifier\n",
    "from sklearn.model_selection import GridSearchCV\n",
    "\n",
    "knn = KNeighborsClassifier()\n",
    "\n",
    "hyperparameters = {\n",
    "    \"n_neighbors\": range(1,20,2),\n",
    "    \"weights\": [\"distance\", \"uniform\"],\n",
    "    \"algorithm\": ['brute'],\n",
    "    \"p\": [1,2]\n",
    "}\n",
    "\n",
    "knn = KNeighborsClassifier()\n",
    "grid = GridSearchCV(knn,param_grid=hyperparameters,cv=10)\n",
    "\n",
    "grid.fit(all_X, all_y)\n",
    "\n",
    "best_params = grid.best_params_\n",
    "best_score = grid.best_score_\n",
    "print(best_params)\n",
    "print(best_score)"
   ]
  },
  {
   "cell_type": "markdown",
   "metadata": {},
   "source": [
    "This model had a cross-validation accuracy which is very slightly better than the linear regression model earlier. We now test this model on the holdout data and see how accurate it is."
   ]
  },
  {
   "cell_type": "code",
   "execution_count": 36,
   "metadata": {},
   "outputs": [],
   "source": [
    "holdout_dropped = holdout.drop(['PassengerId', 'Pclass', 'Sex', 'Age', 'Age_categories', 'Cabin', \n",
    "                    'Name', 'Title', 'Cabin_type', 'Embarked', 'Fare', 'Fare_categories', 'Ticket'],axis=1)\n",
    "\n",
    "#use the GridSearchCV.best_estimator_ attribute to retrieve a \n",
    "#trained model with the best-performing hyperparameters\n",
    "best_knn = grid.best_estimator_\n",
    "holdout_predictions = best_knn.predict(holdout_dropped)\n",
    "\n",
    "holdout_ids = holdout[\"PassengerId\"]\n",
    "submission_df = {\"PassengerId\": holdout_ids,\n",
    "                 \"Survived\": holdout_predictions}\n",
    "submission = pd.DataFrame(submission_df)\n",
    "\n",
    "submission.to_csv(\"submission_3.csv\",index=False)"
   ]
  },
  {
   "cell_type": "markdown",
   "metadata": {},
   "source": [
    "When we submit to Kaggle, wescores 76.6%, less than our best submission of 78.5%. While our model could be overfitting due to including all columns, it also seems like k-nearest neighbors may not be the best algorithm choice.\n",
    "\n",
    "Let's try the **random forests algorithm.**"
   ]
  },
  {
   "cell_type": "code",
   "execution_count": 37,
   "metadata": {},
   "outputs": [],
   "source": [
    "from sklearn.ensemble import RandomForestClassifier\n",
    "clf = RandomForestClassifier(random_state=1)\n",
    "scores = cross_val_score(clf, all_X, all_y, cv=10)\n",
    "accuracy_rf = scores.mean()"
   ]
  },
  {
   "cell_type": "code",
   "execution_count": 38,
   "metadata": {},
   "outputs": [
    {
     "name": "stdout",
     "output_type": "stream",
     "text": [
      "{'criterion': 'gini', 'max_depth': 10, 'max_features': 'sqrt', 'min_samples_leaf': 1, 'min_samples_split': 3, 'n_estimators': 6}\n",
      "0.8439955106621774\n"
     ]
    }
   ],
   "source": [
    "hyperparameters = {\"criterion\": [\"entropy\", \"gini\"],\n",
    "                   \"max_depth\": [5, 10],\n",
    "                   \"max_features\": [\"log2\", \"sqrt\"],\n",
    "                   \"min_samples_leaf\": [1, 5],\n",
    "                   \"min_samples_split\": [3, 5],\n",
    "                   \"n_estimators\": [6, 9]\n",
    "}\n",
    "\n",
    "clf = RandomForestClassifier(random_state=1)\n",
    "grid = GridSearchCV(clf,param_grid=hyperparameters,cv=10)\n",
    "\n",
    "grid.fit(all_X, all_y)\n",
    "\n",
    "best_params = grid.best_params_\n",
    "best_score = grid.best_score_\n",
    "print(best_params)\n",
    "print(best_score)"
   ]
  },
  {
   "cell_type": "code",
   "execution_count": 40,
   "metadata": {},
   "outputs": [],
   "source": [
    "best_rf = grid.best_estimator_\n",
    "holdout_predictions = best_rf.predict(holdout_dropped)\n",
    "\n",
    "holdout_ids = holdout[\"PassengerId\"]\n",
    "submission_df = {\"PassengerId\": holdout_ids,\n",
    "                 \"Survived\": holdout_predictions}\n",
    "submission = pd.DataFrame(submission_df)\n",
    "\n",
    "submission.to_csv(\"submission_4.csv\",index=False)"
   ]
  },
  {
   "cell_type": "markdown",
   "metadata": {},
   "source": [
    "By submitting tp Kaggle, it achieves a score of 77.5%, considerably better than our k-nearest neighbors score of 76.6% and very close (2 incorrect predictions) to our best score from the previous mission of 78.5%.\n",
    "\n",
    "We will now work in a new file to create a clean Kaggle workflow including:\n",
    " - Further data exploration\n",
    " - Feature engineering\n",
    " - Feature selection\n",
    " - Model selection/tuning\n",
    " \n",
    "The new workflow will also address extensions/next steps outlined in this notebook."
   ]
  },
  {
   "cell_type": "code",
   "execution_count": null,
   "metadata": {},
   "outputs": [],
   "source": []
  }
 ],
 "metadata": {
  "kernelspec": {
   "display_name": "Python 3",
   "language": "python",
   "name": "python3"
  },
  "language_info": {
   "codemirror_mode": {
    "name": "ipython",
    "version": 3
   },
   "file_extension": ".py",
   "mimetype": "text/x-python",
   "name": "python",
   "nbconvert_exporter": "python",
   "pygments_lexer": "ipython3",
   "version": "3.6.5"
  }
 },
 "nbformat": 4,
 "nbformat_minor": 2
}
