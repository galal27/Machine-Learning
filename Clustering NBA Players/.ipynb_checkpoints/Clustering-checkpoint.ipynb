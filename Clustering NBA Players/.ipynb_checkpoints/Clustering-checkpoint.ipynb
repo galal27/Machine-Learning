{
 "cells": [
  {
   "cell_type": "markdown",
   "metadata": {},
   "source": [
    "# Introduction\n",
    "\n",
    "_The goal of this project is to create an iterative k-means clustering algorithm to cluster point guards based on their stats. We then use the sci-kit learn clustering method to compare ease and accuracy of the results._\n",
    "\n",
    "In NBA media coverage, sports reporters usually focus on a handful of players and paint stories of how unique these players' stats are. We can use data science, particularly clustering, to explore that thread further.\n",
    "\n",
    "Let's look at the dataset of player performance from the 2013-2014 season.\n",
    "\n",
    "Here are some selected columns:\n",
    "\n",
    " - player: name of the player\n",
    " - pos: the position of the player\n",
    " - g: number of games the player was in\n",
    " - pts: total points the player scored\n",
    " - fg: field goal percentage\n",
    " - ft: free throw percentage\n",
    "\n",
    "Database Basketball has an explanation of all the columns: http://www.databasebasketball.com/about/aboutstats.htm"
   ]
  },
  {
   "cell_type": "markdown",
   "metadata": {},
   "source": [
    "## Exploring the dataset"
   ]
  },
  {
   "cell_type": "code",
   "execution_count": 11,
   "metadata": {},
   "outputs": [
    {
     "data": {
      "text/html": [
       "<div>\n",
       "<style scoped>\n",
       "    .dataframe tbody tr th:only-of-type {\n",
       "        vertical-align: middle;\n",
       "    }\n",
       "\n",
       "    .dataframe tbody tr th {\n",
       "        vertical-align: top;\n",
       "    }\n",
       "\n",
       "    .dataframe thead th {\n",
       "        text-align: right;\n",
       "    }\n",
       "</style>\n",
       "<table border=\"1\" class=\"dataframe\">\n",
       "  <thead>\n",
       "    <tr style=\"text-align: right;\">\n",
       "      <th></th>\n",
       "      <th>player</th>\n",
       "      <th>pos</th>\n",
       "      <th>age</th>\n",
       "      <th>bref_team_id</th>\n",
       "      <th>g</th>\n",
       "      <th>gs</th>\n",
       "      <th>mp</th>\n",
       "      <th>fg</th>\n",
       "      <th>fga</th>\n",
       "      <th>fg.</th>\n",
       "      <th>...</th>\n",
       "      <th>drb</th>\n",
       "      <th>trb</th>\n",
       "      <th>ast</th>\n",
       "      <th>stl</th>\n",
       "      <th>blk</th>\n",
       "      <th>tov</th>\n",
       "      <th>pf</th>\n",
       "      <th>pts</th>\n",
       "      <th>season</th>\n",
       "      <th>season_end</th>\n",
       "    </tr>\n",
       "  </thead>\n",
       "  <tbody>\n",
       "    <tr>\n",
       "      <th>0</th>\n",
       "      <td>Quincy Acy</td>\n",
       "      <td>SF</td>\n",
       "      <td>23</td>\n",
       "      <td>TOT</td>\n",
       "      <td>63</td>\n",
       "      <td>0</td>\n",
       "      <td>847</td>\n",
       "      <td>66</td>\n",
       "      <td>141</td>\n",
       "      <td>0.468</td>\n",
       "      <td>...</td>\n",
       "      <td>144</td>\n",
       "      <td>216</td>\n",
       "      <td>28</td>\n",
       "      <td>23</td>\n",
       "      <td>26</td>\n",
       "      <td>30</td>\n",
       "      <td>122</td>\n",
       "      <td>171</td>\n",
       "      <td>2013-2014</td>\n",
       "      <td>2013</td>\n",
       "    </tr>\n",
       "    <tr>\n",
       "      <th>1</th>\n",
       "      <td>Steven Adams</td>\n",
       "      <td>C</td>\n",
       "      <td>20</td>\n",
       "      <td>OKC</td>\n",
       "      <td>81</td>\n",
       "      <td>20</td>\n",
       "      <td>1197</td>\n",
       "      <td>93</td>\n",
       "      <td>185</td>\n",
       "      <td>0.503</td>\n",
       "      <td>...</td>\n",
       "      <td>190</td>\n",
       "      <td>332</td>\n",
       "      <td>43</td>\n",
       "      <td>40</td>\n",
       "      <td>57</td>\n",
       "      <td>71</td>\n",
       "      <td>203</td>\n",
       "      <td>265</td>\n",
       "      <td>2013-2014</td>\n",
       "      <td>2013</td>\n",
       "    </tr>\n",
       "    <tr>\n",
       "      <th>2</th>\n",
       "      <td>Jeff Adrien</td>\n",
       "      <td>PF</td>\n",
       "      <td>27</td>\n",
       "      <td>TOT</td>\n",
       "      <td>53</td>\n",
       "      <td>12</td>\n",
       "      <td>961</td>\n",
       "      <td>143</td>\n",
       "      <td>275</td>\n",
       "      <td>0.520</td>\n",
       "      <td>...</td>\n",
       "      <td>204</td>\n",
       "      <td>306</td>\n",
       "      <td>38</td>\n",
       "      <td>24</td>\n",
       "      <td>36</td>\n",
       "      <td>39</td>\n",
       "      <td>108</td>\n",
       "      <td>362</td>\n",
       "      <td>2013-2014</td>\n",
       "      <td>2013</td>\n",
       "    </tr>\n",
       "  </tbody>\n",
       "</table>\n",
       "<p>3 rows × 31 columns</p>\n",
       "</div>"
      ],
      "text/plain": [
       "         player pos  age bref_team_id   g  gs    mp   fg  fga    fg.  \\\n",
       "0    Quincy Acy  SF   23          TOT  63   0   847   66  141  0.468   \n",
       "1  Steven Adams   C   20          OKC  81  20  1197   93  185  0.503   \n",
       "2   Jeff Adrien  PF   27          TOT  53  12   961  143  275  0.520   \n",
       "\n",
       "      ...      drb  trb  ast  stl  blk  tov   pf  pts     season  season_end  \n",
       "0     ...      144  216   28   23   26   30  122  171  2013-2014        2013  \n",
       "1     ...      190  332   43   40   57   71  203  265  2013-2014        2013  \n",
       "2     ...      204  306   38   24   36   39  108  362  2013-2014        2013  \n",
       "\n",
       "[3 rows x 31 columns]"
      ]
     },
     "execution_count": 11,
     "metadata": {},
     "output_type": "execute_result"
    }
   ],
   "source": [
    "import pandas as pd\n",
    "import numpy as np\n",
    "import matplotlib.pyplot as plt\n",
    "%matplotlib inline\n",
    "\n",
    "nba = pd.read_csv(\"nba_2013.csv\")\n",
    "nba.head(3)"
   ]
  },
  {
   "cell_type": "markdown",
   "metadata": {},
   "source": [
    "Point guards play one of the most crucial roles on a team because their primary responsibility is to create scoring opportunities for the team. For point guards, it's widely accepted that the Assist to Turnover Ratio is a good indicator for performance in games as it quantifies the number of scoring opportunities that player created. Let's also use Points Per Game, since effective Point Guards not only set up scoring opportunities but also take a lot of the shots themselves.\n",
    "\n",
    "Using 2 features allows us to easily visualize the players and will also make it easier to grasp how clustering works. "
   ]
  },
  {
   "cell_type": "code",
   "execution_count": 12,
   "metadata": {},
   "outputs": [],
   "source": [
    "point_guards = nba[nba['pos'] == 'PG']"
   ]
  },
  {
   "cell_type": "code",
   "execution_count": 13,
   "metadata": {},
   "outputs": [
    {
     "name": "stdout",
     "output_type": "stream",
     "text": [
      "    pts   g        ppg\n",
      "24  930  71  13.098592\n",
      "29  150  20   7.500000\n",
      "30  660  79   8.354430\n",
      "38  666  72   9.250000\n",
      "50  378  55   6.872727\n"
     ]
    },
    {
     "name": "stderr",
     "output_type": "stream",
     "text": [
      "/anaconda3/lib/python3.6/site-packages/ipykernel_launcher.py:2: SettingWithCopyWarning: \n",
      "A value is trying to be set on a copy of a slice from a DataFrame.\n",
      "Try using .loc[row_indexer,col_indexer] = value instead\n",
      "\n",
      "See the caveats in the documentation: http://pandas.pydata.org/pandas-docs/stable/indexing.html#indexing-view-versus-copy\n",
      "  \n"
     ]
    }
   ],
   "source": [
    "#creating points per game column\n",
    "point_guards['ppg'] = point_guards['pts'] / point_guards['g']\n",
    "\n",
    "# Sanity check, make sure ppg = pts/g\n",
    "print(point_guards[['pts', 'g', 'ppg']].head(5))"
   ]
  },
  {
   "cell_type": "markdown",
   "metadata": {},
   "source": [
    "Now let's create a column, atr, for the Assist Turnover Ratio, which is calculated by dividing total assists (ast) by total turnovers (tov).\n",
    "\n",
    "We drop the players who have 0 turnovers. Not only did these players only play a few games, making it hard to understand their true abilities, but we also cannot divide by 0 when we calculate atr."
   ]
  },
  {
   "cell_type": "code",
   "execution_count": 14,
   "metadata": {},
   "outputs": [],
   "source": [
    "point_guards = point_guards[point_guards['tov'] != 0]\n",
    "point_guards['atr'] = point_guards['ast'] / point_guards['tov']"
   ]
  },
  {
   "cell_type": "code",
   "execution_count": 15,
   "metadata": {},
   "outputs": [
    {
     "data": {
      "image/png": "[encoded data removed]",
      "text/plain": [
       "<Figure size 432x288 with 1 Axes>"
      ]
     },
     "metadata": {},
     "output_type": "display_data"
    }
   ],
   "source": [
    "plt.scatter(point_guards['ppg'], point_guards['atr'], c='y')\n",
    "plt.title(\"Point Guards\")\n",
    "plt.xlabel('Points Per Game', fontsize=13)\n",
    "plt.ylabel('Assist Turnover Ratio', fontsize=13)\n",
    "plt.show()"
   ]
  },
  {
   "cell_type": "markdown",
   "metadata": {},
   "source": [
    "## Clustering\n",
    "\n",
    "There seem to be 5 general regions, or clusters, that the point guards fall into. We use unsupervised machine learning, like clustering, techniques to explore the structure within a data set that doesn't have a clear value to optimize.\n",
    "\n",
    "There are multiple clustering methods, but we will use centroid-based clustering. Centroid based clustering works well when the clusters resemble circles with centers (or centroids). The centroid represent the arithmetic mean of all of the data points in that cluster."
   ]
  },
  {
   "cell_type": "markdown",
   "metadata": {},
   "source": [
    "### K-Means Clustering\n",
    "\n",
    "K-Means clustering is an iterative algorithm that switches between recalculating the centroid of each cluster and the players that belong to that cluster. To start, select 5 players at random and assign their coordinates as the initial centroids of the just created clusters.\n",
    "\n",
    "**Step 1 (Assign Points to Clusters):** For each player, calculate the Euclidean distance between that player's coordinates, or values for atr & ppg, and each of the centroids' coordinates. Assign the player to the cluster whose centroid is the closest to, or has the lowest Euclidean distance to, the player's values.\n",
    "\n",
    "**Step 2 (Update New Centroids of the Clusters):** For each cluster, compute the new centroid by calculating the arithmetic mean of all of the points (players) in that cluster. We calculate the arithmetic mean by taking the average of all of the X values (atr) and the average of all of the Y values (ppg) of the points in that cluster.\n",
    "\n",
    "Iterate Repeat steps 1 & 2 until the clusters are no longer moving and have converged."
   ]
  },
  {
   "cell_type": "code",
   "execution_count": 16,
   "metadata": {},
   "outputs": [],
   "source": [
    "num_clusters = 5\n",
    "# Use numpy's random function to generate a list, length: num_clusters, of indices\n",
    "random_initial_points = np.random.choice(point_guards.index, size=num_clusters)\n",
    "# Use the random indices to create the centroids\n",
    "centroids = point_guards.loc[random_initial_points]"
   ]
  },
  {
   "cell_type": "code",
   "execution_count": 19,
   "metadata": {},
   "outputs": [
    {
     "data": {
      "image/png": "[encoded data removed]",
      "text/plain": [
       "<Figure size 432x288 with 1 Axes>"
      ]
     },
     "metadata": {},
     "output_type": "display_data"
    }
   ],
   "source": [
    "#Let's plot the centroids, in addition to the point_guards, \n",
    "#so we can see where the randomly chosen centroids started out.\n",
    "plt.scatter(point_guards['ppg'], point_guards['atr'], c='blue')\n",
    "plt.scatter(centroids['ppg'], centroids['atr'], c='red')\n",
    "plt.title(\"Centroids\")\n",
    "plt.xlabel('Points Per Game', fontsize=13)\n",
    "plt.ylabel('Assist Turnover Ratio', fontsize=13)\n",
    "plt.show()"
   ]
  },
  {
   "cell_type": "markdown",
   "metadata": {},
   "source": [
    "### Setup"
   ]
  },
  {
   "cell_type": "code",
   "execution_count": 20,
   "metadata": {},
   "outputs": [],
   "source": [
    "#use a dictionary object to represent the centroids\n",
    "def centroids_to_dict(centroids):\n",
    "    dictionary = dict()\n",
    "    # iterating counter we use to generate a cluster_id\n",
    "    counter = 0\n",
    "\n",
    "    # iterate a pandas data frame row-wise using .iterrows()\n",
    "    for index, row in centroids.iterrows():\n",
    "        coordinates = [row['ppg'], row['atr']]\n",
    "        dictionary[counter] = coordinates\n",
    "        counter += 1\n",
    "\n",
    "    return dictionary\n",
    "\n",
    "centroids_dict = centroids_to_dict(centroids)"
   ]
  },
  {
   "cell_type": "markdown",
   "metadata": {},
   "source": [
    "### Step 1: Assign points to clusters"
   ]
  },
  {
   "cell_type": "code",
   "execution_count": 21,
   "metadata": {},
   "outputs": [],
   "source": [
    "#compare the ppg and atr values of the players \n",
    "#with each cluster's centroids via euclidean dsitance\n",
    "import math\n",
    "\n",
    "def calculate_distance(centroid, player_values):\n",
    "    root_distance = 0\n",
    "    \n",
    "    for x in range(0, len(centroid)):\n",
    "        difference = centroid[x] - player_values[x]\n",
    "        squared_difference = difference**2\n",
    "        root_distance += squared_difference\n",
    "\n",
    "    euclid_distance = math.sqrt(root_distance)\n",
    "    return euclid_distance"
   ]
  },
  {
   "cell_type": "markdown",
   "metadata": {},
   "source": [
    "Now we need a way to assign data points to clusters based on Euclidean distance. Instead of creating a new variable or data structure to house the clusters, let's keep things simple and just add a column to the point_guards data frame that contains the cluster_id of the cluster it belongs to."
   ]
  },
  {
   "cell_type": "code",
   "execution_count": 23,
   "metadata": {},
   "outputs": [],
   "source": [
    "#For each player, we want to calculate the distances to each cluster's centroid using euclidean_distance.\n",
    "#Once we know the distances, we can determine which centroid is the closest and return that centroid's cluster_id.\n",
    "def assign_to_cluster(row):\n",
    "    lowest_distance = -1\n",
    "    closest_cluster = -1\n",
    "    \n",
    "    for cluster_id, centroid in centroids_dict.items():\n",
    "        df_row = [row['ppg'], row['atr']]\n",
    "        euclidean_distance = calculate_distance(centroid, df_row)\n",
    "        \n",
    "        if lowest_distance == -1:\n",
    "            lowest_distance = euclidean_distance\n",
    "            closest_cluster = cluster_id \n",
    "        elif euclidean_distance < lowest_distance:\n",
    "            lowest_distance = euclidean_distance\n",
    "            closest_cluster = cluster_id\n",
    "    return closest_cluster\n",
    "\n",
    "#Create a new column, cluster, that contains the row-wise results of assign_to_cluster.\n",
    "point_guards['cluster'] = point_guards.apply(lambda row: assign_to_cluster(row), axis=1)"
   ]
  },
  {
   "cell_type": "code",
   "execution_count": 24,
   "metadata": {},
   "outputs": [
    {
     "data": {
      "image/png": "[encoded data removed]",
      "text/plain": [
       "<Figure size 432x288 with 1 Axes>"
      ]
     },
     "metadata": {},
     "output_type": "display_data"
    }
   ],
   "source": [
    "# Visualizing clusters\n",
    "def visualize_clusters(df, num_clusters):\n",
    "    colors = ['b', 'g', 'r', 'c', 'm', 'y', 'k']\n",
    "\n",
    "    for n in range(num_clusters):\n",
    "        clustered_df = df[df['cluster'] == n]\n",
    "        plt.scatter(clustered_df['ppg'], clustered_df['atr'], c=colors[n-1])\n",
    "        plt.xlabel('Points Per Game', fontsize=13)\n",
    "        plt.ylabel('Assist Turnover Ratio', fontsize=13)\n",
    "    plt.show()\n",
    "\n",
    "visualize_clusters(point_guards, 5)"
   ]
  },
  {
   "cell_type": "markdown",
   "metadata": {},
   "source": [
    "### Step 2: Update New Centroids of the Clusters"
   ]
  },
  {
   "cell_type": "code",
   "execution_count": 25,
   "metadata": {},
   "outputs": [],
   "source": [
    "def recalculate_centroids(df):\n",
    "    new_centroids_dict = dict()\n",
    "    \n",
    "    for cluster_id in range(0, num_clusters):\n",
    "        values_in_cluster = df[df['cluster'] == cluster_id]\n",
    "        # Calculate new centroid using mean of values in the cluster\n",
    "        new_centroid = [np.average(values_in_cluster['ppg']), np.average(values_in_cluster['atr'])]\n",
    "        new_centroids_dict[cluster_id] = new_centroid\n",
    "    return new_centroids_dict\n",
    "\n",
    "centroids_dict = recalculate_centroids(point_guards)"
   ]
  },
  {
   "cell_type": "markdown",
   "metadata": {},
   "source": [
    "### Iterate\n",
    "We now repeat step 1 and see how the clusters have changed"
   ]
  },
  {
   "cell_type": "code",
   "execution_count": 28,
   "metadata": {},
   "outputs": [
    {
     "data": {
      "image/png": "[encoded data removed]",
      "text/plain": [
       "<Figure size 432x288 with 1 Axes>"
      ]
     },
     "metadata": {},
     "output_type": "display_data"
    }
   ],
   "source": [
    "point_guards['cluster'] = point_guards.apply(lambda row: assign_to_cluster(row), axis=1)\n",
    "visualize_clusters(point_guards, num_clusters)"
   ]
  },
  {
   "cell_type": "markdown",
   "metadata": {},
   "source": [
    "Now, we recalculate the centroids and shift the clusters again"
   ]
  },
  {
   "cell_type": "code",
   "execution_count": 29,
   "metadata": {},
   "outputs": [
    {
     "data": {
      "image/png": "[encoded data removed]",
      "text/plain": [
       "<Figure size 432x288 with 1 Axes>"
      ]
     },
     "metadata": {},
     "output_type": "display_data"
    }
   ],
   "source": [
    "centroids_dict = recalculate_centroids(point_guards)\n",
    "point_guards['cluster'] = point_guards.apply(lambda row: assign_to_cluster(row), axis=1)\n",
    "visualize_clusters(point_guards, num_clusters)"
   ]
  },
  {
   "cell_type": "markdown",
   "metadata": {},
   "source": [
    "### Observations\n",
    "As we repeat Steps 1 and 2 and run visualize_clusters, notice that a few of the points are changing clusters between every iteration (especially in areas where 2 clusters almost overlap), but otherwise, the clusters visually look like they don't move a lot after every iteration. This means 2 things:\n",
    "\n",
    " - K-Means doesn't cause massive changes in the makeup of clusters between iterations, meaning that it will always converge and become stable\n",
    " - Because K-Means is conservative between iterations, where we pick the initial centroids and how we assign the players to clusters initially matters a lot"
   ]
  },
  {
   "cell_type": "markdown",
   "metadata": {},
   "source": [
    "### Sci-kit Learn Implementation\n",
    "\n",
    "To counteract these problems, the sklearn implementation of K-Means does some intelligent things like re-running the entire clustering process lots of times with random initial centroids so the final results are a little less biased on one passthrough's initial centroids."
   ]
  },
  {
   "cell_type": "code",
   "execution_count": 30,
   "metadata": {},
   "outputs": [
    {
     "data": {
      "image/png": "[encoded data removed]",
      "text/plain": [
       "<Figure size 432x288 with 1 Axes>"
      ]
     },
     "metadata": {},
     "output_type": "display_data"
    }
   ],
   "source": [
    "from sklearn.cluster import KMeans\n",
    "\n",
    "kmeans = KMeans(n_clusters=num_clusters)\n",
    "kmeans.fit(point_guards[['ppg', 'atr']])\n",
    "point_guards['cluster'] = kmeans.labels_\n",
    "\n",
    "visualize_clusters(point_guards, num_clusters)"
   ]
  },
  {
   "cell_type": "code",
   "execution_count": null,
   "metadata": {},
   "outputs": [],
   "source": []
  }
 ],
 "metadata": {
  "kernelspec": {
   "display_name": "Python 3",
   "language": "python",
   "name": "python3"
  },
  "language_info": {
   "codemirror_mode": {
    "name": "ipython",
    "version": 3
   },
   "file_extension": ".py",
   "mimetype": "text/x-python",
   "name": "python",
   "nbconvert_exporter": "python",
   "pygments_lexer": "ipython3",
   "version": "3.6.5"
  }
 },
 "nbformat": 4,
 "nbformat_minor": 2
}
